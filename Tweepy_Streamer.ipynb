{
 "cells": [
  {
   "cell_type": "code",
   "execution_count": 39,
   "metadata": {},
   "outputs": [],
   "source": [
    "from tweepy.streaming import StreamListener\n",
    "from tweepy import OAuthHandler\n",
    "from tweepy import Stream\n",
    "import tweepy\n",
    "from tweepy import API\n",
    "from tweepy import Cursor\n",
    "import twitter_credentials\n",
    "import numpy as np\n",
    "import pandas as pd\n",
    "import matplotlib.pyplot as plt\n",
    "from textblob import TextBlob\n",
    "import re"
   ]
  },
  {
   "cell_type": "code",
   "execution_count": 31,
   "metadata": {},
   "outputs": [],
   "source": [
    "class TwitterAuthenticator():\n",
    "    def authenticate_twitter_app(self):\n",
    "        auth = OAuthHandler(twitter_credentials.API, twitter_credentials.API_SECRET_KEY)\n",
    "        auth.set_access_token(twitter_credentials.ACCESS_TOKEN, twitter_credentials.ACCESS_TOKEN_SECRET)\n",
    "        return auth"
   ]
  },
  {
   "cell_type": "code",
   "execution_count": 32,
   "metadata": {},
   "outputs": [],
   "source": [
    "class TwittertListener(StreamListener):\n",
    "    \"\"\"\n",
    "    This listener appends data to the passed filename\n",
    "    \"\"\"\n",
    "    def __init__(self, fetched_tweets_filename):\n",
    "        self.fetched_tweets_filename = fetched_tweets_filename\n",
    "        \n",
    "    def on_data(self, tweet):\n",
    "        try:\n",
    "            #print(tweet)\n",
    "            with open (self.fetched_tweets_filename, 'a') as tf:\n",
    "                tf.write(tweet)\n",
    "            \n",
    "        except Exception as e:\n",
    "            print(e)\n",
    "        \n",
    "        finally:\n",
    "            return True\n",
    "            \n",
    "\n",
    "    def on_error(self, status):\n",
    "        if status == 420:\n",
    "                # Returning False on_data method in case rate limit occurs\n",
    "                return False\n",
    "        print(status)\n"
   ]
  },
  {
   "cell_type": "code",
   "execution_count": 33,
   "metadata": {},
   "outputs": [],
   "source": [
    "class TwitterStreamer():\n",
    "    \"\"\"\n",
    "    Class for streaming and processing live tweets\n",
    "    \"\"\"\n",
    "    def __init__(self):\n",
    "        self.twitter_authenticator = TwitterAuthenticator()\n",
    "    def stream_tweets(self, fetched_tweets_filename, hash_tag_list):\n",
    "        listener = TwitterListener(fetched_tweets_filename)\n",
    "        auth = self.twitter_authenticator.authenticate_twitter_app()\n",
    "        stream = Stream(auth, listener)\n",
    "        stream.filter(track = hash_tag_list)        "
   ]
  },
  {
   "cell_type": "code",
   "execution_count": 7,
   "metadata": {},
   "outputs": [],
   "source": [
    "class TwitterClient():\n",
    "    def __init__(self, twitter_user = None):\n",
    "        self.auth = TwitterAuthenticator().authenticate_twitter_app()\n",
    "        self.twitter_client = API(self.auth)\n",
    "        self.twitter_user = twitter_user\n",
    "        \n",
    "    def get_user_timeline_tweets(self, num_tweets):\n",
    "        tweets = []\n",
    "        for tweet in Cursor(self.twitter_client.user_timeline, id = self.twitter_user).items(num_tweets):\n",
    "            tweets.append(tweet)\n",
    "        return tweets\n",
    "    \n",
    "    def get_friend_list(self, num_friends):\n",
    "        friend_list = []\n",
    "        for friend in Cursor(self.twitter_client.friends, id = self.twitter_user).items(num_tweets):\n",
    "            friend_list.append(friend)\n",
    "        return friend_list\n",
    "    \n",
    "    def get_home_timeline_tweets(self, num_tweets):\n",
    "        home_timeline_tweets = []\n",
    "        for tweet in Cursor(self.twitter_client.home_timeline, id = self.twitter_user).items(num_tweets):\n",
    "            home_timeline_tweets.append(tweet)\n",
    "        return(home_timeline_tweets)\n",
    "    \n",
    "    def get_twitter_client_api(self):\n",
    "        return(self.twitter_client)"
   ]
  },
  {
   "cell_type": "code",
   "execution_count": 41,
   "metadata": {},
   "outputs": [],
   "source": [
    "class TweetAnalyzer():\n",
    "    \"\"\"\n",
    "    Functionality for analyzing and categorizing tweets\n",
    "    \"\"\"\n",
    "    def tweets_to_data_frame(self, tweets):\n",
    "        df = pd.DataFrame(data = [tweet.text for tweet in tweets], columns = ['tweets'])\n",
    "        df['id'] = np.array([tweet.id for tweet in tweets])\n",
    "        df['len'] = np.array([len(tweet.text) for tweet in tweets])\n",
    "        df['date'] = np.array([tweet.created_at for tweet in tweets])\n",
    "        df['source'] = np.array([(tweet.source) for tweet in tweets])\n",
    "        df['likes'] = np.array([(tweet.favorite_count) for tweet in tweets])\n",
    "        df['retweets'] = np.array([(tweet.retweet_count) for tweet in tweets])\n",
    "        return df\n",
    "    \n",
    "    def clean_tweet(self, tweet):\n",
    "        return ' '.join(re.sub(\"(@[A-Za-z0-9]+)|([^0-9A-Za-z \\t])|(\\w+:\\/\\/\\S+)\", \" \", tweet).split())\n",
    "    \n",
    "    def analyze_sentiment(self, tweet):\n",
    "        analysis = TextBlob(self.clean_tweet(tweet))\n",
    "        \n",
    "        if analysis.sentiment.polarity > 0:\n",
    "            return 1\n",
    "        elif analysis.sentiment.polarity == 0:\n",
    "            return 0\n",
    "        else:\n",
    "            return -1"
   ]
  },
  {
   "cell_type": "code",
   "execution_count": 44,
   "metadata": {},
   "outputs": [
    {
     "name": "stdout",
     "output_type": "stream",
     "text": [
      "                                              tweets                   id  \\\n",
      "0  Good news on Covid Relief Bill. Information to...  1343336121040777217   \n",
      "1  See you in Washington, DC, on January 6th. Don...  1343328708963299338   \n",
      "2  On behalf of two GREAT Senators, @sendavidperd...  1343328283824447488   \n",
      "3                A must see! https://t.co/WbLDGpaHJX  1343069190433943564   \n",
      "4       RT @realDonaldTrump: https://t.co/L3tOUDiT0G  1343069079867957248   \n",
      "\n",
      "   len                date              source   likes  retweets  sentiment  \n",
      "0   54 2020-12-27 23:21:03  Twitter for iPhone  225374     38898          1  \n",
      "1   80 2020-12-27 22:51:36  Twitter for iPhone  301527     66267          0  \n",
      "2  143 2020-12-27 22:49:55  Twitter for iPhone  179641     37705          1  \n",
      "3   35 2020-12-27 05:40:22  Twitter for iPhone  187427     57985          0  \n",
      "4   44 2020-12-27 05:39:56  Twitter for iPhone       0     84462          0  \n"
     ]
    }
   ],
   "source": [
    "if __name__ == '__main__':\n",
    "    twitter_client = TwitterClient()\n",
    "    api = twitter_client.get_twitter_client_api()\n",
    "    tweets = api.user_timeline(screen_name=\"realDonaldTrump\", count = 200)\n",
    "    tweet_analyzer = TweetAnalyzer()\n",
    "    df = tweet_analyzer.tweets_to_data_frame(tweets)\n",
    "    df['sentiment'] = df['tweets'].apply(tweet_analyzer.analyze_sentiment)\n",
    "    print(df.head())"
   ]
  }
 ],
 "metadata": {
  "kernelspec": {
   "display_name": "Python 3",
   "language": "python",
   "name": "python3"
  },
  "language_info": {
   "codemirror_mode": {
    "name": "ipython",
    "version": 3
   },
   "file_extension": ".py",
   "mimetype": "text/x-python",
   "name": "python",
   "nbconvert_exporter": "python",
   "pygments_lexer": "ipython3",
   "version": "3.8.5"
  }
 },
 "nbformat": 4,
 "nbformat_minor": 4
}
