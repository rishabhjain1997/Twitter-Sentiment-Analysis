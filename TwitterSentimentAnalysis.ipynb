{
 "cells": [
  {
   "cell_type": "code",
   "execution_count": 5,
   "metadata": {},
   "outputs": [],
   "source": [
    "import twitter_credentials\n",
    "import tweepy"
   ]
  },
  {
   "cell_type": "code",
   "execution_count": 6,
   "metadata": {},
   "outputs": [
    {
     "name": "stdout",
     "output_type": "stream",
     "text": [
      "@CoderDrax  Latest Covid Updates:-\n",
      "                           Total Cases : 467 \n",
      "                              Deat… https://t.co/eqpFDJXAOp\n",
      "RT @redmaytals: Meoto Iwa, las rocas sagradas de Japón\n",
      "#NationalGeographic #Fotodeldia #Python #Tweepy https://t.co/EH7QkY7VEM\n",
      "Meoto Iwa, las rocas sagradas de Japón\n",
      "#NationalGeographic #Fotodeldia #Python #Tweepy https://t.co/EH7QkY7VEM\n",
      "@CoderDrax  Latest Covid Updates:-\n",
      "                           Total Cases : 467 \n",
      "                              Deat… https://t.co/ip9NVTThnk\n",
      "@CoderDrax  Latest Covid Updates:-\n",
      "                           Total Cases : 467 \n",
      "                              Deat… https://t.co/Z0TeU2Pp20\n",
      "@CoderDrax  Latest Covid Updates:-\n",
      "                           Total Cases : 467 \n",
      "                              Deat… https://t.co/njlGHFFfWR\n",
      "@CoderDrax  Latest Covid Updates:-\n",
      "                           Total Cases : 467 \n",
      "                              Deat… https://t.co/KZhNYsZVE4\n",
      "@CoderDrax  Latest Covid Updates:-\n",
      "                           Total Cases : 467 \n",
      "                              Deat… https://t.co/Wxo734kfM4\n",
      "@Barnacules @SimoneGiertz Doable using this as starting point https://t.co/yuLG3Jwpz4\n",
      "@CoderDrax  Latest Covid Updates:-\n",
      "                           Total Cases : 446 \n",
      "                              Deat… https://t.co/GmbT1mgjzm\n"
     ]
    },
    {
     "data": {
      "text/plain": [
       "['OAUTH_HOST',\n",
       " 'OAUTH_ROOT',\n",
       " '__class__',\n",
       " '__delattr__',\n",
       " '__dict__',\n",
       " '__dir__',\n",
       " '__doc__',\n",
       " '__eq__',\n",
       " '__format__',\n",
       " '__ge__',\n",
       " '__getattribute__',\n",
       " '__gt__',\n",
       " '__hash__',\n",
       " '__init__',\n",
       " '__init_subclass__',\n",
       " '__le__',\n",
       " '__lt__',\n",
       " '__module__',\n",
       " '__ne__',\n",
       " '__new__',\n",
       " '__reduce__',\n",
       " '__reduce_ex__',\n",
       " '__repr__',\n",
       " '__setattr__',\n",
       " '__sizeof__',\n",
       " '__str__',\n",
       " '__subclasshook__',\n",
       " '__weakref__',\n",
       " '_get_oauth_url',\n",
       " 'apply_auth',\n",
       " 'get_username']"
      ]
     },
     "execution_count": 6,
     "metadata": {},
     "output_type": "execute_result"
    }
   ],
   "source": [
    "auth = tweepy.AppAuthHandler(twitter_credentials.API, twitter_credentials.API_SECRET_KEY)\n",
    "#auth.set_access_token()\n",
    "api = tweepy.API(auth)\n",
    "for tweet in tweepy.Cursor(api.search, q='tweepy').items(10):\n",
    "    print(tweet.text)\n",
    "dir(tweepy.AppAuthHandler)"
   ]
  },
  {
   "cell_type": "code",
   "execution_count": 13,
   "metadata": {},
   "outputs": [],
   "source": [
    "import tweepy\n",
    "#override tweepy.StreamListener to add logic to on_status\n",
    "class MyStreamListener(tweepy.StreamListener):\n",
    "\n",
    "    def on_status(self, status):\n",
    "        print(status.text)\n",
    "    def on_data(self, data):\n",
    "        print(data)"
   ]
  },
  {
   "cell_type": "code",
   "execution_count": 14,
   "metadata": {},
   "outputs": [
    {
     "name": "stdout",
     "output_type": "stream",
     "text": [
      "Start streaming.\n",
      "Done.\n"
     ]
    }
   ],
   "source": [
    "from tweepy import Stream\n",
    "myStreamListener = MyStreamListener()\n",
    "stream = Stream(auth=api.auth, listener=myStreamListener)\n",
    "try:\n",
    "    print('Start streaming.')\n",
    "    myStream.filter(track=['python'])\n",
    "except KeyboardInterrupt as e :\n",
    "    print(\"Stopped.\")\n",
    "finally:\n",
    "    print('Done.')\n",
    "    stream.disconnect()\n",
    "    output.close()"
   ]
  },
  {
   "cell_type": "code",
   "execution_count": 15,
   "metadata": {},
   "outputs": [],
   "source": [
    "myStreamListener = MyStreamListener()\n",
    "myStream = tweepy.Stream(auth = api.auth, listener=myStreamListener)\n",
    "myStream.filter(track=['python'])"
   ]
  },
  {
   "cell_type": "code",
   "execution_count": 16,
   "metadata": {},
   "outputs": [],
   "source": [
    "myStream\n",
    "output = open('stream_output.txt', 'w')"
   ]
  },
  {
   "cell_type": "code",
   "execution_count": 17,
   "metadata": {},
   "outputs": [
    {
     "name": "stdout",
     "output_type": "stream",
     "text": [
      "Start streaming.\n",
      "Done.\n"
     ]
    }
   ],
   "source": [
    "try:\n",
    "    print('Start streaming.')\n",
    "    myStream.sample(languages=['en'])\n",
    "except KeyboardInterrupt as e :\n",
    "    print(\"Stopped.\")\n",
    "finally:\n",
    "    print('Done.')\n",
    "    myStream.disconnect()\n",
    "    output.close()"
   ]
  },
  {
   "cell_type": "code",
   "execution_count": 18,
   "metadata": {},
   "outputs": [],
   "source": [
    "myStream.sample(languages=['en'])"
   ]
  },
  {
   "cell_type": "code",
   "execution_count": null,
   "metadata": {},
   "outputs": [],
   "source": []
  },
  {
   "cell_type": "code",
   "execution_count": 19,
   "metadata": {},
   "outputs": [],
   "source": [
    "auth = tweepy.OAuthHandler(twitter_credentials.API, twitter_credentials.API_SECRET_KEY)"
   ]
  },
  {
   "cell_type": "code",
   "execution_count": 20,
   "metadata": {},
   "outputs": [],
   "source": [
    "try:\n",
    "    redirect_url = auth.get_authorization_url()\n",
    "except tweepy.TweepError:\n",
    "    print('Error! Failed to get request token.')"
   ]
  },
  {
   "cell_type": "code",
   "execution_count": 22,
   "metadata": {},
   "outputs": [
    {
     "ename": "ModuleNotFoundError",
     "evalue": "No module named 'request'",
     "output_type": "error",
     "traceback": [
      "\u001b[0;31m---------------------------------------------------------------------------\u001b[0m",
      "\u001b[0;31mModuleNotFoundError\u001b[0m                       Traceback (most recent call last)",
      "\u001b[0;32m<ipython-input-22-bb25a301ac07>\u001b[0m in \u001b[0;36m<module>\u001b[0;34m\u001b[0m\n\u001b[0;32m----> 1\u001b[0;31m \u001b[0;32mimport\u001b[0m \u001b[0mrequest\u001b[0m\u001b[0;34m\u001b[0m\u001b[0;34m\u001b[0m\u001b[0m\n\u001b[0m\u001b[1;32m      2\u001b[0m \u001b[0mverifier\u001b[0m \u001b[0;34m=\u001b[0m \u001b[0mrequest\u001b[0m\u001b[0;34m.\u001b[0m\u001b[0mGET\u001b[0m\u001b[0;34m.\u001b[0m\u001b[0mget\u001b[0m\u001b[0;34m(\u001b[0m\u001b[0;34m'oauth_verifier'\u001b[0m\u001b[0;34m)\u001b[0m\u001b[0;34m\u001b[0m\u001b[0;34m\u001b[0m\u001b[0m\n",
      "\u001b[0;31mModuleNotFoundError\u001b[0m: No module named 'request'"
     ]
    }
   ],
   "source": [
    "import request \n",
    "ver"
   ]
  },
  {
   "cell_type": "code",
   "execution_count": null,
   "metadata": {},
   "outputs": [],
   "source": []
  }
 ],
 "metadata": {
  "kernelspec": {
   "display_name": "Python 3",
   "language": "python",
   "name": "python3"
  },
  "language_info": {
   "codemirror_mode": {
    "name": "ipython",
    "version": 3
   },
   "file_extension": ".py",
   "mimetype": "text/x-python",
   "name": "python",
   "nbconvert_exporter": "python",
   "pygments_lexer": "ipython3",
   "version": "3.8.5"
  }
 },
 "nbformat": 4,
 "nbformat_minor": 4
}
